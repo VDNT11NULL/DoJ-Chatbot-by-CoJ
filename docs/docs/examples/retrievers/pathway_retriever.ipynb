{
  "cells": [
    {
      "cell_type": "markdown",
      "metadata": {
        "id": "view-in-github",
        "colab_type": "text"
      },
      "source": [
        "<a href=\"https://colab.research.google.com/github/VDNT11NULL/DoJ-Chatbot-by-CoJ/blob/main/docs/docs/examples/retrievers/pathway_retriever.ipynb\" target=\"_parent\"><img src=\"https://colab.research.google.com/assets/colab-badge.svg\" alt=\"Open In Colab\"/></a>"
      ]
    },
    {
      "cell_type": "markdown",
      "metadata": {
        "id": "jD3S-VG9H1Rs"
      },
      "source": [
        "<a href=\"https://colab.research.google.com/github/run-llama/llama_index/blob/main/docs/docs/examples/retrievers/pathway_retriever.ipynb\" target=\"_parent\"><img src=\"https://colab.research.google.com/assets/colab-badge.svg\" alt=\"Open In Colab\"/></a>"
      ]
    },
    {
      "cell_type": "markdown",
      "metadata": {
        "id": "Z52MxesYH1Rz"
      },
      "source": [
        "# Pathway Retriever"
      ]
    },
    {
      "cell_type": "markdown",
      "metadata": {
        "id": "CaiMMfkBH1R0"
      },
      "source": [
        "> [Pathway](https://pathway.com/) is an open data processing framework. It allows you to easily develop data transformation pipelines and Machine Learning applications that work with live data sources and changing data.\n",
        "\n",
        "This notebook demonstrates how to use a live data indexing pipeline with `LlamaIndex`. You can query the results of this pipeline from your LLM application using the provided `PathwayRetriever`. However, under the hood, Pathway updates the index on each data change giving you always up-to-date answers.\n",
        "\n",
        "In this notebook, we will use a [public demo document processing pipeline](https://pathway.com/solutions/ai-pipelines#try-it-out) that:\n",
        "\n",
        "1. Monitors several cloud data sources for data changes.\n",
        "2. Builds a vector index for the data.\n",
        "\n",
        "To have your own document processing pipeline check the [hosted offering](https://pathway.com/solutions/ai-pipelines) or [build your own](https://pathway.com/developers/user-guide/llm-xpack/vectorstore_pipeline/) by following this notebook.\n",
        "\n",
        "We will connect to the index using `llama_index.retrievers.pathway.PathwayRetriever` retriever, which implements the `retrieve` interface.\n",
        "\n",
        "The basic pipeline described in this document allows to effortlessly build a simple index of files stored in a cloud location. However, Pathway provides everything needed to build realtime data pipelines and apps, including SQL-like able operations such as groupby-reductions and joins between disparate data sources, time-based grouping and windowing of data, and a wide array of connectors.\n",
        "\n",
        "For more details about Pathway data ingestion pipeline and vector store, visit [vector store pipeline](https://pathway.com/developers/showcases/vectorstore_pipeline)."
      ]
    },
    {
      "cell_type": "markdown",
      "metadata": {
        "id": "f_-EZ2CxH1R3"
      },
      "source": [
        "## Prerequisites\n",
        "\n",
        "To use `PathwayRetrievier` you must install `llama-index-retrievers-pathway` package."
      ]
    },
    {
      "cell_type": "code",
      "execution_count": null,
      "metadata": {
        "id": "Dl8fpdc9H1R4"
      },
      "outputs": [],
      "source": [
        "!pip install llama-index-retrievers-pathway"
      ]
    },
    {
      "cell_type": "markdown",
      "metadata": {
        "id": "SDv5EQ4CH1R7"
      },
      "source": [
        "## Create Retriever for llama-index"
      ]
    },
    {
      "cell_type": "markdown",
      "metadata": {
        "id": "b3zAaDhDH1R8"
      },
      "source": [
        "To instantiate and configure `PathwayRetriever` you need to provide either the `url` or the `host` and `port` of your document indexing pipeline. In the code below we use a publicly available [demo pipeline](https://pathway.com/solutions/ai-pipelines#try-it-out), which REST API you can access at `https://demo-document-indexing.pathway.stream`. This demo ingests documents from [Google Drive](https://drive.google.com/drive/u/0/folders/1cULDv2OaViJBmOfG5WB0oWcgayNrGtVs) and [Sharepoint](https://navalgo.sharepoint.com/sites/ConnectorSandbox/Shared%20Documents/Forms/AllItems.aspx?id=%2Fsites%2FConnectorSandbox%2FShared%20Documents%2FIndexerSandbox&p=true&ga=1) and maintains an index for retrieving documents."
      ]
    },
    {
      "cell_type": "code",
      "execution_count": 1,
      "metadata": {
        "colab": {
          "base_uri": "https://localhost:8080/",
          "height": 400
        },
        "id": "L61zwQPOH1R9",
        "outputId": "38be5d93-eade-456a-d8dd-167f3e41196a"
      },
      "outputs": [
        {
          "output_type": "error",
          "ename": "ModuleNotFoundError",
          "evalue": "No module named 'llama_index'",
          "traceback": [
            "\u001b[0;31m---------------------------------------------------------------------------\u001b[0m",
            "\u001b[0;31mModuleNotFoundError\u001b[0m                       Traceback (most recent call last)",
            "\u001b[0;32m<ipython-input-1-1347580c209c>\u001b[0m in \u001b[0;36m<cell line: 1>\u001b[0;34m()\u001b[0m\n\u001b[0;32m----> 1\u001b[0;31m \u001b[0;32mfrom\u001b[0m \u001b[0mllama_index\u001b[0m\u001b[0;34m.\u001b[0m\u001b[0mretrievers\u001b[0m\u001b[0;34m.\u001b[0m\u001b[0mpathway\u001b[0m \u001b[0;32mimport\u001b[0m \u001b[0mPathwayRetriever\u001b[0m\u001b[0;34m\u001b[0m\u001b[0;34m\u001b[0m\u001b[0m\n\u001b[0m\u001b[1;32m      2\u001b[0m \u001b[0;34m\u001b[0m\u001b[0m\n\u001b[1;32m      3\u001b[0m retriever = PathwayRetriever(\n\u001b[1;32m      4\u001b[0m     \u001b[0murl\u001b[0m\u001b[0;34m=\u001b[0m\u001b[0;34m\"https://demo-document-indexing.pathway.stream\"\u001b[0m\u001b[0;34m\u001b[0m\u001b[0;34m\u001b[0m\u001b[0m\n\u001b[1;32m      5\u001b[0m )\n",
            "\u001b[0;31mModuleNotFoundError\u001b[0m: No module named 'llama_index'",
            "",
            "\u001b[0;31m---------------------------------------------------------------------------\u001b[0;32m\nNOTE: If your import is failing due to a missing package, you can\nmanually install dependencies using either !pip or !apt.\n\nTo view examples of installing some common dependencies, click the\n\"Open Examples\" button below.\n\u001b[0;31m---------------------------------------------------------------------------\u001b[0m\n"
          ],
          "errorDetails": {
            "actions": [
              {
                "action": "open_url",
                "actionText": "Open Examples",
                "url": "/notebooks/snippets/importing_libraries.ipynb"
              }
            ]
          }
        }
      ],
      "source": [
        "from llama_index.retrievers.pathway import PathwayRetriever\n",
        "\n",
        "retriever = PathwayRetriever(\n",
        "    url=\"https://demo-document-indexing.pathway.stream\"\n",
        ")\n",
        "retriever.retrieve(str_or_query_bundle=\"what is pathway\")"
      ]
    },
    {
      "cell_type": "markdown",
      "metadata": {
        "id": "-iQ24kW6H1R-"
      },
      "source": [
        "**Your turn!** [Get your pipeline](https://pathway.com/solutions/ai-pipelines) or upload [new documents](https://chat-realtime-sharepoint-gdrive.demo.pathway.com/) to the demo pipeline and retry the query!"
      ]
    },
    {
      "cell_type": "markdown",
      "metadata": {
        "id": "w92Nxn-kH1R_"
      },
      "source": [
        "## Use in Query Engine"
      ]
    },
    {
      "cell_type": "code",
      "execution_count": null,
      "metadata": {
        "id": "XSESrUz_H1R_"
      },
      "outputs": [],
      "source": [
        "from llama_index.core.query_engine import RetrieverQueryEngine\n",
        "\n",
        "query_engine = RetrieverQueryEngine.from_args(\n",
        "    retriever,\n",
        ")"
      ]
    },
    {
      "cell_type": "code",
      "execution_count": null,
      "metadata": {
        "id": "0VyzFcWpH1R_"
      },
      "outputs": [],
      "source": [
        "response = query_engine.query(\"Tell me about Pathway\")\n",
        "print(str(response))"
      ]
    },
    {
      "cell_type": "markdown",
      "metadata": {
        "id": "4oPwVVdAH1SA"
      },
      "source": [
        "## Building your own data processing pipeline"
      ]
    },
    {
      "cell_type": "markdown",
      "metadata": {
        "id": "z6eDU3QeH1SA"
      },
      "source": [
        "### Prerequisites\n",
        "\n",
        "Install `pathway` package. Then download sample data."
      ]
    },
    {
      "cell_type": "code",
      "execution_count": null,
      "metadata": {
        "id": "9Z1hmYqIH1SB"
      },
      "outputs": [],
      "source": [
        "%pip install pathway\n",
        "%pip install llama-index-embeddings-openai"
      ]
    },
    {
      "cell_type": "code",
      "execution_count": null,
      "metadata": {
        "id": "gK6d6Ar6H1SB"
      },
      "outputs": [],
      "source": [
        "!mkdir -p 'data/'\n",
        "!wget 'https://gist.githubusercontent.com/janchorowski/dd22a293f3d99d1b726eedc7d46d2fc0/raw/pathway_readme.md' -O 'data/pathway_readme.md'"
      ]
    },
    {
      "cell_type": "markdown",
      "metadata": {
        "id": "fzU3oFHKH1SB"
      },
      "source": [
        "### Define data sources tracked by Pathway"
      ]
    },
    {
      "cell_type": "markdown",
      "metadata": {
        "id": "M-4FHT0EH1SB"
      },
      "source": [
        "Pathway can listen to many sources simultaneously, such as local files, S3 folders, cloud storage and any data stream for data changes.\n",
        "\n",
        "See [pathway-io](https://pathway.com/developers/api-docs/pathway-io) for more information."
      ]
    },
    {
      "cell_type": "code",
      "execution_count": null,
      "metadata": {
        "id": "CodYc0f_H1SB"
      },
      "outputs": [],
      "source": [
        "import pathway as pw\n",
        "\n",
        "data_sources = []\n",
        "data_sources.append(\n",
        "    pw.io.fs.read(\n",
        "        \"./data\",\n",
        "        format=\"binary\",\n",
        "        mode=\"streaming\",\n",
        "        with_metadata=True,\n",
        "    )  # This creates a `pathway` connector that tracks\n",
        "    # all the files in the ./data directory\n",
        ")\n",
        "\n",
        "# This creates a connector that tracks files in Google drive.\n",
        "# please follow the instructions at https://pathway.com/developers/tutorials/connectors/gdrive-connector/ to get credentials\n",
        "# data_sources.append(\n",
        "#     pw.io.gdrive.read(object_id=\"17H4YpBOAKQzEJ93xmC2z170l0bP2npMy\", service_user_credentials_file=\"credentials.json\", with_metadata=True))"
      ]
    },
    {
      "cell_type": "markdown",
      "metadata": {
        "id": "Zrf8teD5H1SC"
      },
      "source": [
        "### Create the document indexing pipeline"
      ]
    },
    {
      "cell_type": "markdown",
      "metadata": {
        "id": "Wg5I2dV9H1SC"
      },
      "source": [
        "Let us create the document indexing pipeline. The `transformations` should be a list of `TransformComponent`s ending with an `Embedding` transformation.\n",
        "\n",
        "In this example, let's first split the text first using `TokenTextSplitter`, then embed with `OpenAIEmbedding`."
      ]
    },
    {
      "cell_type": "code",
      "execution_count": null,
      "metadata": {
        "id": "7HHQwr6nH1SC"
      },
      "outputs": [],
      "source": [
        "from pathway.xpacks.llm.vector_store import VectorStoreServer\n",
        "from llama_index.embeddings.openai import OpenAIEmbedding\n",
        "from llama_index.core.node_parser import TokenTextSplitter\n",
        "\n",
        "embed_model = OpenAIEmbedding(embed_batch_size=10)\n",
        "\n",
        "transformations_example = [\n",
        "    TokenTextSplitter(\n",
        "        chunk_size=150,\n",
        "        chunk_overlap=10,\n",
        "        separator=\" \",\n",
        "    ),\n",
        "    embed_model,\n",
        "]\n",
        "\n",
        "processing_pipeline = VectorStoreServer.from_llamaindex_components(\n",
        "    *data_sources,\n",
        "    transformations=transformations_example,\n",
        ")\n",
        "\n",
        "# Define the Host and port that Pathway will be on\n",
        "PATHWAY_HOST = \"127.0.0.1\"\n",
        "PATHWAY_PORT = 8754\n",
        "\n",
        "# `threaded` runs pathway in detached mode, we have to set it to False when running from terminal or container\n",
        "# for more information on `with_cache` check out https://pathway.com/developers/api-docs/persistence-api\n",
        "processing_pipeline.run_server(\n",
        "    host=PATHWAY_HOST, port=PATHWAY_PORT, with_cache=False, threaded=True\n",
        ")"
      ]
    },
    {
      "cell_type": "markdown",
      "metadata": {
        "id": "Osv4S4QAH1SD"
      },
      "source": [
        "### Connect the retriever to the custom pipeline"
      ]
    },
    {
      "cell_type": "code",
      "execution_count": null,
      "metadata": {
        "id": "MlcvNjP2H1SD"
      },
      "outputs": [],
      "source": [
        "from llama_index.retrievers.pathway import PathwayRetriever\n",
        "\n",
        "retriever = PathwayRetriever(host=PATHWAY_HOST, port=PATHWAY_PORT)\n",
        "retriever.retrieve(str_or_query_bundle=\"what is pathway\")"
      ]
    }
  ],
  "metadata": {
    "kernelspec": {
      "display_name": "Python 3 (ipykernel)",
      "language": "python",
      "name": "python3"
    },
    "language_info": {
      "codemirror_mode": {
        "name": "ipython",
        "version": 3
      },
      "file_extension": ".py",
      "mimetype": "text/x-python",
      "name": "python",
      "nbconvert_exporter": "python",
      "pygments_lexer": "ipython3"
    },
    "colab": {
      "provenance": [],
      "include_colab_link": true
    }
  },
  "nbformat": 4,
  "nbformat_minor": 0
}